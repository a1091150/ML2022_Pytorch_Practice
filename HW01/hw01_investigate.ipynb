{
 "cells": [
  {
   "cell_type": "markdown",
   "metadata": {},
   "source": [
    "這份作業沒有使用 pandas 來處理資料，只是使用內建的 csv module 讀資料\n",
    "\n",
    "以下程式碼參考 hw01.ipynb 中的讀取的方式，用來了解程式碼行為\n",
    "\n",
    "先解 train 的資料"
   ]
  },
  {
   "cell_type": "code",
   "execution_count": 1,
   "metadata": {},
   "outputs": [],
   "source": [
    "from pathlib import Path\n",
    "tr_path = 'covid.train.csv'  # path to training data\n",
    "tt_path = 'covid.test.csv'   # path to testing data\n",
    "\n",
    "if  not Path(tr_path).exists() or not Path(tt_path).exists:\n",
    "    !gdown '19CCyCgJrUxtvgZF53vnctJiOJ23T5mqF' --output covid.train.csv\n",
    "    !gdown '1CE240jLm2npU-tdz81-oVKEF3T2yfT1O' --output covid.test.csv"
   ]
  },
  {
   "cell_type": "code",
   "execution_count": 2,
   "metadata": {},
   "outputs": [],
   "source": [
    "import csv\n",
    "import numpy as np\n",
    "\n",
    "with open(tr_path, 'r') as fp:\n",
    "    data = list(csv.reader(fp))"
   ]
  },
  {
   "cell_type": "code",
   "execution_count": 3,
   "metadata": {},
   "outputs": [],
   "source": [
    "foo = np.array(data)"
   ]
  },
  {
   "cell_type": "code",
   "execution_count": 4,
   "metadata": {},
   "outputs": [
    {
     "data": {
      "text/plain": [
       "(2701, 95)"
      ]
     },
     "execution_count": 4,
     "metadata": {},
     "output_type": "execute_result"
    }
   ],
   "source": [
    "foo.shape"
   ]
  },
  {
   "cell_type": "code",
   "execution_count": 5,
   "metadata": {},
   "outputs": [
    {
     "data": {
      "text/plain": [
       "array([['id', 'AL', 'AK', ..., 'worried_become_ill', 'worried_finances',\n",
       "        'tested_positive'],\n",
       "       ['0', '1.0', '0.0', ..., '53.9915494', '43.6042293', '20.7049346'],\n",
       "       ['1', '1.0', '0.0', ..., '54.185521', '42.6657659', '21.2929114'],\n",
       "       ...,\n",
       "       ['2697', '0.0', '0.0', ..., '67.731162', '38.740651',\n",
       "        '12.6134414'],\n",
       "       ['2698', '0.0', '0.0', ..., '67.7950996', '38.595125',\n",
       "        '12.4772268'],\n",
       "       ['2699', '0.0', '0.0', ..., '68.2840782', '38.4538196',\n",
       "        '11.8117187']], dtype='<U20')"
      ]
     },
     "execution_count": 5,
     "metadata": {},
     "output_type": "execute_result"
    }
   ],
   "source": [
    "foo[:] "
   ]
  },
  {
   "cell_type": "code",
   "execution_count": 6,
   "metadata": {},
   "outputs": [
    {
     "data": {
      "text/plain": [
       "array([['0', '1.0', '0.0', ..., '53.9915494', '43.6042293', '20.7049346'],\n",
       "       ['1', '1.0', '0.0', ..., '54.185521', '42.6657659', '21.2929114'],\n",
       "       ['2', '1.0', '0.0', ..., '53.6370693', '42.972417', '21.1666563'],\n",
       "       ...,\n",
       "       ['2697', '0.0', '0.0', ..., '67.731162', '38.740651',\n",
       "        '12.6134414'],\n",
       "       ['2698', '0.0', '0.0', ..., '67.7950996', '38.595125',\n",
       "        '12.4772268'],\n",
       "       ['2699', '0.0', '0.0', ..., '68.2840782', '38.4538196',\n",
       "        '11.8117187']], dtype='<U20')"
      ]
     },
     "execution_count": 6,
     "metadata": {},
     "output_type": "execute_result"
    }
   ],
   "source": [
    "foo[1:] # 少了 csv 的 header"
   ]
  },
  {
   "cell_type": "code",
   "execution_count": 7,
   "metadata": {},
   "outputs": [
    {
     "data": {
      "text/plain": [
       "array([['1.0', '0.0', '0.0', ..., '53.9915494', '43.6042293',\n",
       "        '20.7049346'],\n",
       "       ['1.0', '0.0', '0.0', ..., '54.185521', '42.6657659',\n",
       "        '21.2929114'],\n",
       "       ['1.0', '0.0', '0.0', ..., '53.6370693', '42.972417',\n",
       "        '21.1666563'],\n",
       "       ...,\n",
       "       ['0.0', '0.0', '0.0', ..., '67.731162', '38.740651', '12.6134414'],\n",
       "       ['0.0', '0.0', '0.0', ..., '67.7950996', '38.595125',\n",
       "        '12.4772268'],\n",
       "       ['0.0', '0.0', '0.0', ..., '68.2840782', '38.4538196',\n",
       "        '11.8117187']], dtype='<U20')"
      ]
     },
     "execution_count": 7,
     "metadata": {},
     "output_type": "execute_result"
    }
   ],
   "source": [
    "(foo[1:])[:,1:]# 與上方的差異是少了 id colunm"
   ]
  },
  {
   "cell_type": "code",
   "execution_count": 8,
   "metadata": {},
   "outputs": [],
   "source": [
    "foo2 = foo[1:, 1:] # 合併的寫法"
   ]
  },
  {
   "cell_type": "markdown",
   "metadata": {},
   "source": [
    "在原本程式碼中，使用 ```torch.FloatTensor(data)``` 轉換成 torch 的物件"
   ]
  },
  {
   "cell_type": "code",
   "execution_count": 9,
   "metadata": {},
   "outputs": [
    {
     "name": "stdout",
     "output_type": "stream",
     "text": [
      "[['id' 'AL' 'AK' 'AZ' 'AR' 'CA' 'CO' 'CT' 'FL' 'GA' 'ID' 'IL' 'IN' 'IA'\n",
      "  'KS' 'KY' 'LA' 'MD' 'MA' 'MI' 'MN' 'MS' 'MO' 'NE' 'NV' 'NJ' 'NM' 'NY'\n",
      "  'NC' 'OH' 'OK' 'OR' 'PA' 'RI' 'SC' 'TX' 'UT' 'VA' 'WA' 'WV' 'WI' 'cli'\n",
      "  'ili' 'hh_cmnty_cli' 'nohh_cmnty_cli' 'wearing_mask'\n",
      "  'travel_outside_state' 'work_outside_home' 'shop' 'restaurant'\n",
      "  'spent_time' 'large_event' 'public_transit' 'anxious' 'depressed'\n",
      "  'felt_isolated' 'worried_become_ill' 'worried_finances'\n",
      "  'tested_positive' 'cli' 'ili' 'hh_cmnty_cli' 'nohh_cmnty_cli'\n",
      "  'wearing_mask' 'travel_outside_state' 'work_outside_home' 'shop'\n",
      "  'restaurant' 'spent_time' 'large_event' 'public_transit' 'anxious'\n",
      "  'depressed' 'felt_isolated' 'worried_become_ill' 'worried_finances'\n",
      "  'tested_positive' 'cli' 'ili' 'hh_cmnty_cli' 'nohh_cmnty_cli'\n",
      "  'wearing_mask' 'travel_outside_state' 'work_outside_home' 'shop'\n",
      "  'restaurant' 'spent_time' 'large_event' 'public_transit' 'anxious'\n",
      "  'depressed' 'felt_isolated' 'worried_become_ill' 'worried_finances'\n",
      "  'tested_positive']]\n",
      "(1, 95)\n"
     ]
    }
   ],
   "source": [
    "print(foo[0:1]) # 取 csv header (id) 資料內容\n",
    "print(foo[0:1].shape)"
   ]
  },
  {
   "cell_type": "code",
   "execution_count": 17,
   "metadata": {},
   "outputs": [
    {
     "name": "stdout",
     "output_type": "stream",
     "text": [
      "tested_positive\n",
      "19.586492\n",
      "tested_positive\n",
      "20.1518381\n"
     ]
    }
   ],
   "source": [
    "print(foo[0,58])\n",
    "print(foo2[0, 57])\n",
    "print(foo[0,76])\n",
    "print(foo2[0, 75])"
   ]
  },
  {
   "cell_type": "markdown",
   "metadata": {},
   "source": [
    "```# TODO: Using 40 states & 2 tested_positive features (indices = 57 & 75)```\n",
    "\n",
    "從上個 Cell 可以推論 target_only 的作用為抓前 40 columns 以及兩個 tested_positive columns，沒錯不要懷疑它有兩個一樣的 column header。"
   ]
  },
  {
   "cell_type": "code",
   "execution_count": 23,
   "metadata": {},
   "outputs": [
    {
     "name": "stdout",
     "output_type": "stream",
     "text": [
      "[0, 1, 2, 3, 4, 5, 6, 7, 8, 9, 10, 11, 12, 13, 14, 15, 16, 17, 18, 19, 20, 21, 22, 23, 24, 25, 26, 27, 28, 29, 30, 31, 32, 33, 34, 35, 36, 37, 38, 39, 57, 75]\n"
     ]
    }
   ],
   "source": [
    "feats = list(range(40))\n",
    "feats.append(57)\n",
    "feats.append(75)\n",
    "print(feats)"
   ]
  }
 ],
 "metadata": {
  "kernelspec": {
   "display_name": "Python 3.8.10 ('ktensor')",
   "language": "python",
   "name": "python3"
  },
  "language_info": {
   "codemirror_mode": {
    "name": "ipython",
    "version": 3
   },
   "file_extension": ".py",
   "mimetype": "text/x-python",
   "name": "python",
   "nbconvert_exporter": "python",
   "pygments_lexer": "ipython3",
   "version": "3.8.10"
  },
  "orig_nbformat": 4,
  "vscode": {
   "interpreter": {
    "hash": "527308d3d76313f2ba0d81a980b849ed09b1f67a573759b8fbcfe642d4736f37"
   }
  }
 },
 "nbformat": 4,
 "nbformat_minor": 2
}
