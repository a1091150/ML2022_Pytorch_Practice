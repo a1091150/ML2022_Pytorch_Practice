{
 "cells": [
  {
   "cell_type": "markdown",
   "metadata": {},
   "source": [
    "訓練檔案有 1 GB 有點多啊。\n",
    "```python\n",
    "n_epochs = 3\n",
    "```\n",
    "\n",
    "每次只能把 epochs 的數量從 80 減至 3，不然系統整個無法運作， 記憶體佔用太高導致很多問題。"
   ]
  }
 ],
 "metadata": {
  "language_info": {
   "name": "python"
  },
  "orig_nbformat": 4
 },
 "nbformat": 4,
 "nbformat_minor": 2
}
